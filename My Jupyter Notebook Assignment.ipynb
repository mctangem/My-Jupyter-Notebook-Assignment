{
  "metadata": {
    "language_info": {
      "codemirror_mode": {
        "name": "python",
        "version": 3
      },
      "file_extension": ".py",
      "mimetype": "text/x-python",
      "name": "python",
      "nbconvert_exporter": "python",
      "pygments_lexer": "ipython3",
      "version": "3.8"
    },
    "kernelspec": {
      "name": "python",
      "display_name": "Pyolite",
      "language": "python"
    }
  },
  "nbformat_minor": 4,
  "nbformat": 4,
  "cells": [
    {
      "cell_type": "markdown",
      "source": "# My Jupyter Notebook on IBM Watson Studio",
      "metadata": {}
    },
    {
      "cell_type": "markdown",
      "source": "**NDI NOEL TANGEM**\n\nData Scientist",
      "metadata": {}
    },
    {
      "cell_type": "markdown",
      "source": "*I am interested in data science because i just love working with numbers and I also want to be of significant help to the growth of insitutions, and why not assist in the prediction of some outbreaks for safety measures to be taken in other to save lives.*",
      "metadata": {}
    },
    {
      "cell_type": "markdown",
      "source": "### In cell 5, I seek to get the sum of some integers",
      "metadata": {}
    },
    {
      "cell_type": "code",
      "source": "print(24 + 32)",
      "metadata": {
        "trusted": true
      },
      "execution_count": 1,
      "outputs": [
        {
          "name": "stdout",
          "text": "56\n",
          "output_type": "stream"
        }
      ]
    },
    {
      "cell_type": "markdown",
      "source": "***\n - Jack\n - Stand\n \n Name | Age | Sex\n -----|-----|----\n James| 24  | M\n Esther|32  | F\n \n Click `Here` for more info",
      "metadata": {}
    },
    {
      "cell_type": "code",
      "source": "",
      "metadata": {},
      "execution_count": null,
      "outputs": []
    }
  ]
}